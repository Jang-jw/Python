{
 "cells": [
  {
   "cell_type": "markdown",
   "id": "5b30247c",
   "metadata": {},
   "source": [
    "### 리스트(list)\n",
    "- 파이썬 자료구조 중 하나\n",
    "- 순서가 있고, 수정이 가능한 자료구조\n",
    "- 대괄호 ([ ]) 로 작성되고, 리스트 내부의 값은 콤마(,)로 구분\n",
    "- 하나의 리스트에는 다양한 자료형을 포함\n",
    "- 추가, 수정, 삭제가 가능"
   ]
  },
  {
   "cell_type": "markdown",
   "id": "692179dc",
   "metadata": {},
   "source": [
    "#### 리스트 선언"
   ]
  },
  {
   "cell_type": "code",
   "execution_count": 1,
   "id": "1d35ac16",
   "metadata": {
    "ExecuteTime": {
     "end_time": "2023-06-26T07:23:15.619171Z",
     "start_time": "2023-06-26T07:23:15.605215Z"
    }
   },
   "outputs": [],
   "source": [
    "# 리스트명 = [요소1,요소2,...]\n",
    "a=[] # 빈 리스트\n",
    "b=[1,2,3] # 숫자요소를 담은 리스트\n",
    "c=['봉민혁','김현중','김다영'] # 문자열 요소를 담은 리스트\n",
    "d=[1,2,'정희운','인여진','박필수'] # 숫자, 문자열 요소를 담은 리스트\n",
    "e=[1,2,'김유성',['신지훈','구동현']] # 리스트 내부에 리스트를 포함한 리스트\n",
    "\n",
    "# [] : 단일리스트\n",
    "# [[ ]] : 이중리스트"
   ]
  },
  {
   "cell_type": "code",
   "execution_count": 3,
   "id": "485bba87",
   "metadata": {
    "ExecuteTime": {
     "end_time": "2023-06-26T07:23:54.942930Z",
     "start_time": "2023-06-26T07:23:54.924973Z"
    }
   },
   "outputs": [
    {
     "name": "stdout",
     "output_type": "stream",
     "text": [
      "[]\n",
      "[1, 2, 3]\n",
      "['봉민혁', '김현중', '김다영']\n",
      "[1, 2, '정희운', '인여진', '박필수']\n",
      "[1, 2, '김유성', ['신지훈', '구동현']]\n"
     ]
    }
   ],
   "source": [
    "print(a)\n",
    "print(b)\n",
    "print(c)\n",
    "print(d)\n",
    "print(e)"
   ]
  },
  {
   "cell_type": "code",
   "execution_count": 5,
   "id": "c283b94f",
   "metadata": {
    "ExecuteTime": {
     "end_time": "2023-06-26T07:26:22.876147Z",
     "start_time": "2023-06-26T07:26:22.861186Z"
    }
   },
   "outputs": [
    {
     "name": "stdout",
     "output_type": "stream",
     "text": [
      "2\n",
      "9\n",
      "17\n"
     ]
    }
   ],
   "source": [
    "list1=[2,5,7,9,10]\n",
    "print(list1[0])\n",
    "print(list1[3])\n",
    "print(list1[2]+list1[-1])"
   ]
  },
  {
   "cell_type": "markdown",
   "id": "47ca0890",
   "metadata": {},
   "source": [
    "#### ~"
   ]
  },
  {
   "cell_type": "code",
   "execution_count": 2,
   "id": "3e149f22",
   "metadata": {
    "ExecuteTime": {
     "end_time": "2023-06-27T05:27:40.215253Z",
     "start_time": "2023-06-27T05:27:40.202282Z"
    }
   },
   "outputs": [
    {
     "name": "stdout",
     "output_type": "stream",
     "text": [
      "['a', 'b', 'c']\n",
      "b\n"
     ]
    }
   ],
   "source": [
    "# 1. temp 변수에 ['a','b','c'] 값 담기\n",
    "# 2. list2 에서 'b' 만 꺼내오기\n",
    "list2=[1,2,3,['a','b','c']]\n",
    "temp=list2[3]\n",
    "print(temp)\n",
    "print(list2[3][1]) # 이중리스트에서 원하는 요소에 접근하는 인덱싱,\n",
    "                   # 이중리스트이기 때문에 인덱싱하는 대괄호도 2개 [][]"
   ]
  },
  {
   "cell_type": "code",
   "execution_count": 3,
   "id": "ed0d5a21",
   "metadata": {
    "ExecuteTime": {
     "end_time": "2023-06-27T05:27:40.728431Z",
     "start_time": "2023-06-27T05:27:40.706442Z"
    }
   },
   "outputs": [
    {
     "data": {
      "text/plain": [
       "4"
      ]
     },
     "execution_count": 3,
     "metadata": {},
     "output_type": "execute_result"
    }
   ],
   "source": [
    "# len() : 길이를 반환하는 함수\n",
    "len(list2)"
   ]
  },
  {
   "cell_type": "markdown",
   "id": "5c808fdc",
   "metadata": {},
   "source": [
    "#### 리스트 슬라이싱"
   ]
  },
  {
   "cell_type": "code",
   "execution_count": 2,
   "id": "8f4cc74f",
   "metadata": {
    "ExecuteTime": {
     "end_time": "2023-06-27T12:24:31.219858Z",
     "start_time": "2023-06-27T12:24:31.199885Z"
    }
   },
   "outputs": [
    {
     "data": {
      "text/plain": [
       "['이우석', '김동영', '장재욱']"
      ]
     },
     "execution_count": 2,
     "metadata": {},
     "output_type": "execute_result"
    }
   ],
   "source": [
    "# 리스트명[시작인덱스:끝인덱스]\n",
    "# 인덱스범위 : 시작인덱스 <= 인덱스번호 < 끝인덱스\n",
    "list3=['이우석','김동영','장재욱','강진구','신지훈']\n",
    "# '이우석' ~ '장재욱' 데이터 접근 출력\n",
    "list3[:3] # 출력하는 형태도 리스트로 반환 # 시작값을 포함하고 있다면 인덱스 번호 생략가능"
   ]
  },
  {
   "cell_type": "code",
   "execution_count": 3,
   "id": "19e1eaad",
   "metadata": {
    "ExecuteTime": {
     "end_time": "2023-06-27T12:24:32.508559Z",
     "start_time": "2023-06-27T12:24:32.497756Z"
    }
   },
   "outputs": [
    {
     "data": {
      "text/plain": [
       "['김동영', '장재욱', '강진구', '신지훈']"
      ]
     },
     "execution_count": 3,
     "metadata": {},
     "output_type": "execute_result"
    }
   ],
   "source": [
    "# '김동영' ~ '신지훈' 데이터 접근해보기\n",
    "list3[1:] # 끝값을 포함하고 있다면 인덱스 번호 생략가능"
   ]
  },
  {
   "cell_type": "code",
   "execution_count": 4,
   "id": "0bb7c873",
   "metadata": {
    "ExecuteTime": {
     "end_time": "2023-06-27T12:24:33.823501Z",
     "start_time": "2023-06-27T12:24:33.811508Z"
    }
   },
   "outputs": [
    {
     "data": {
      "text/plain": [
       "['이우석', '장재욱', '신지훈']"
      ]
     },
     "execution_count": 4,
     "metadata": {},
     "output_type": "execute_result"
    }
   ],
   "source": [
    "# 인덱스 번호 0부터 끝까지 2개씩 띄어서 가져오기\n",
    "list3[::2] # [시작인덱스 : 끝인덱스 : 증감값]"
   ]
  },
  {
   "cell_type": "code",
   "execution_count": 5,
   "id": "e2d4e851",
   "metadata": {
    "ExecuteTime": {
     "end_time": "2023-06-27T12:24:35.081687Z",
     "start_time": "2023-06-27T12:24:35.073735Z"
    }
   },
   "outputs": [
    {
     "data": {
      "text/plain": [
       "['김동영', '신지훈']"
      ]
     },
     "execution_count": 5,
     "metadata": {},
     "output_type": "execute_result"
    }
   ],
   "source": [
    "# 인덱스 번호 1부터 끝까지 3개씩 띄어서 가져오기\n",
    "list3[1::3]"
   ]
  },
  {
   "cell_type": "code",
   "execution_count": 15,
   "id": "9e9d766b",
   "metadata": {
    "ExecuteTime": {
     "end_time": "2023-06-27T05:44:54.885497Z",
     "start_time": "2023-06-27T05:44:54.880510Z"
    }
   },
   "outputs": [],
   "source": [
    "# 이중리스트를 만들고 데이터 접근해보기\n",
    "# 이름, 나이, 혈액형 정보 기반의 이중 리스트\n",
    "list4=[['김준우',29,'B'],['정희운',30,'B'],['봉민혁',24,'A'],['김유성',29,'B'],['강진구',26,'O']]"
   ]
  },
  {
   "cell_type": "code",
   "execution_count": 16,
   "id": "fe92e6c3",
   "metadata": {
    "ExecuteTime": {
     "end_time": "2023-06-27T05:45:02.508692Z",
     "start_time": "2023-06-27T05:45:02.497747Z"
    }
   },
   "outputs": [
    {
     "data": {
      "text/plain": [
       "[['김준우', 29, 'B'],\n",
       " ['정희운', 30, 'B'],\n",
       " ['봉민혁', 24, 'A'],\n",
       " ['김유성', 29, 'B'],\n",
       " ['강진구', 26, 'O']]"
      ]
     },
     "execution_count": 16,
     "metadata": {},
     "output_type": "execute_result"
    }
   ],
   "source": [
    "list4"
   ]
  },
  {
   "cell_type": "code",
   "execution_count": 19,
   "id": "5fae9d81",
   "metadata": {
    "ExecuteTime": {
     "end_time": "2023-06-27T05:47:55.122774Z",
     "start_time": "2023-06-27T05:47:55.105847Z"
    }
   },
   "outputs": [
    {
     "data": {
      "text/plain": [
       "'봉민혁씨의 나이는 24이고, 혈액형은 A형입니다.'"
      ]
     },
     "execution_count": 19,
     "metadata": {},
     "output_type": "execute_result"
    }
   ],
   "source": [
    "# 봉민혁 나이, 혈액형 접근해서 출력해보기\n",
    "# 민혁씨의 나이는 00이고, 혈액은 0형입니다.\n",
    "f'{list4[2][0]}씨의 나이는 {list4[2][1]}이고, 혈액형은 {list4[2][2]}형입니다.'"
   ]
  },
  {
   "cell_type": "code",
   "execution_count": 22,
   "id": "679927ba",
   "metadata": {
    "ExecuteTime": {
     "end_time": "2023-06-27T05:54:49.693803Z",
     "start_time": "2023-06-27T05:54:49.680846Z"
    }
   },
   "outputs": [
    {
     "name": "stdout",
     "output_type": "stream",
     "text": [
      "김유성씨의 나이는 29살 입니다.\n",
      "강진구씨의 나이는 26살 입니다.\n"
     ]
    }
   ],
   "source": [
    "# 김유성, 강진구 데이터에 접근해서 이름, 나이 정보 출력하기\n",
    "# 00씨의 나이는 0살 입니다. \n",
    "print(f'{list4[3][0]}씨의 나이는 {list4[3][1]}살 입니다.')\n",
    "print(f'{list4[4][0]}씨의 나이는 {list4[4][1]}살 입니다.')"
   ]
  },
  {
   "cell_type": "markdown",
   "id": "4820f1fd",
   "metadata": {},
   "source": [
    "#### 리스트 반복 : 연산자 활용"
   ]
  },
  {
   "cell_type": "code",
   "execution_count": 25,
   "id": "c27f4001",
   "metadata": {
    "ExecuteTime": {
     "end_time": "2023-06-27T06:13:38.290688Z",
     "start_time": "2023-06-27T06:13:38.279719Z"
    }
   },
   "outputs": [
    {
     "data": {
      "text/plain": [
       "[1, 2, 3, 4, 1, 2, 3, 4, 1, 2, 3, 4, 1, 2, 3, 4]"
      ]
     },
     "execution_count": 25,
     "metadata": {},
     "output_type": "execute_result"
    }
   ],
   "source": [
    "# 리스트의 곱하기 : 리스트의 내용이 곱해지는 수만큼 반복\n",
    "list5=[1,2,3,4]\n",
    "list5*4"
   ]
  },
  {
   "cell_type": "code",
   "execution_count": 26,
   "id": "6eac0c9c",
   "metadata": {
    "ExecuteTime": {
     "end_time": "2023-06-27T06:13:53.329187Z",
     "start_time": "2023-06-27T06:13:53.319204Z"
    }
   },
   "outputs": [
    {
     "data": {
      "text/plain": [
       "[1, 2, 3, 4, 5, 6, 7, 8]"
      ]
     },
     "execution_count": 26,
     "metadata": {},
     "output_type": "execute_result"
    }
   ],
   "source": [
    "# 리스트의 더하기 : 앞 뒤의 리스트가 연결됨\n",
    "list6=[5,6,7,8]\n",
    "list5+list6"
   ]
  },
  {
   "cell_type": "code",
   "execution_count": 27,
   "id": "dd885937",
   "metadata": {
    "ExecuteTime": {
     "end_time": "2023-06-27T06:15:02.773270Z",
     "start_time": "2023-06-27T06:15:02.759334Z"
    }
   },
   "outputs": [
    {
     "data": {
      "text/plain": [
       "[0, 1, 2, 3, 4, 5]"
      ]
     },
     "execution_count": 27,
     "metadata": {},
     "output_type": "execute_result"
    }
   ],
   "source": [
    "list6=[0,1,2,3,4]\n",
    "list6.append(5)\n",
    "list6"
   ]
  },
  {
   "cell_type": "code",
   "execution_count": 29,
   "id": "7732cd1c",
   "metadata": {
    "ExecuteTime": {
     "end_time": "2023-06-27T06:15:30.703754Z",
     "start_time": "2023-06-27T06:15:30.696807Z"
    }
   },
   "outputs": [
    {
     "data": {
      "text/plain": [
       "[0, 1, 2, 3, 4, 5, 1, 6]"
      ]
     },
     "execution_count": 29,
     "metadata": {},
     "output_type": "execute_result"
    }
   ],
   "source": [
    "list6.append(6)\n",
    "list6"
   ]
  },
  {
   "cell_type": "markdown",
   "id": "de46c175",
   "metadata": {},
   "source": [
    "#### 리스트 관련 함수"
   ]
  },
  {
   "cell_type": "markdown",
   "id": "bda540b2",
   "metadata": {},
   "source": [
    "##### 리스트 값 추가 1 : append()\n",
    "- 리스트 끝에 값 하나 추가"
   ]
  },
  {
   "cell_type": "code",
   "execution_count": 105,
   "id": "38fe6e37",
   "metadata": {
    "ExecuteTime": {
     "end_time": "2023-06-27T07:28:12.349808Z",
     "start_time": "2023-06-27T07:28:12.338812Z"
    }
   },
   "outputs": [
    {
     "data": {
      "text/plain": [
       "['사과', '멜론', '오렌지']"
      ]
     },
     "execution_count": 105,
     "metadata": {},
     "output_type": "execute_result"
    }
   ],
   "source": [
    "fruits=['사과','샤인머스켓',['귤','멜론'],'오렌지']\n",
    "apple=fruits[0]\n",
    "melon=fruits[2][1]\n",
    "orange=fruits[3]\n",
    "choice_list=[]\n",
    "choice_list.append(apple)\n",
    "choice_list.append(melon)\n",
    "choice_list.append(orange)\n",
    "choice_list"
   ]
  },
  {
   "cell_type": "code",
   "execution_count": 106,
   "id": "981f0b45",
   "metadata": {
    "ExecuteTime": {
     "end_time": "2023-06-27T07:28:14.018633Z",
     "start_time": "2023-06-27T07:28:14.000678Z"
    }
   },
   "outputs": [
    {
     "data": {
      "text/plain": [
       "list"
      ]
     },
     "execution_count": 106,
     "metadata": {},
     "output_type": "execute_result"
    }
   ],
   "source": [
    "type(choice_list)"
   ]
  },
  {
   "cell_type": "markdown",
   "id": "eec7d5d1",
   "metadata": {},
   "source": [
    "##### 리스트 값 추가 2 : extend()\n",
    "- 여러 요소를 한꺼번에 추가\n",
    "- 추가하는 값은 리스트 형태로 묶어서 넣어줘야 함."
   ]
  },
  {
   "cell_type": "code",
   "execution_count": 107,
   "id": "b2ad543d",
   "metadata": {
    "ExecuteTime": {
     "end_time": "2023-06-27T07:28:16.153863Z",
     "start_time": "2023-06-27T07:28:16.138903Z"
    }
   },
   "outputs": [
    {
     "data": {
      "text/plain": [
       "['사과', '멜론', '오렌지']"
      ]
     },
     "execution_count": 107,
     "metadata": {},
     "output_type": "execute_result"
    }
   ],
   "source": [
    "choice_list=[]\n",
    "choice_list.extend([apple,melon,orange])\n",
    "choice_list"
   ]
  },
  {
   "cell_type": "markdown",
   "id": "6d98d238",
   "metadata": {},
   "source": [
    "##### 리스트 값 추가 3 : insert()\n",
    "- 원하는 인덱스 위치에 값 추가"
   ]
  },
  {
   "cell_type": "code",
   "execution_count": 108,
   "id": "22034087",
   "metadata": {
    "ExecuteTime": {
     "end_time": "2023-06-27T07:28:19.184729Z",
     "start_time": "2023-06-27T07:28:19.177716Z"
    }
   },
   "outputs": [
    {
     "data": {
      "text/plain": [
       "['사과', '멜론', '오렌지']"
      ]
     },
     "execution_count": 108,
     "metadata": {},
     "output_type": "execute_result"
    }
   ],
   "source": [
    "choice_list"
   ]
  },
  {
   "cell_type": "code",
   "execution_count": 109,
   "id": "b8b037bc",
   "metadata": {
    "ExecuteTime": {
     "end_time": "2023-06-27T07:28:19.976473Z",
     "start_time": "2023-06-27T07:28:19.969489Z"
    }
   },
   "outputs": [
    {
     "data": {
      "text/plain": [
       "['사과', '수박', '멜론', '오렌지']"
      ]
     },
     "execution_count": 109,
     "metadata": {},
     "output_type": "execute_result"
    }
   ],
   "source": [
    "# 1번 인덱스에 '수박' 추가하기\n",
    "choice_list.insert(1,'수박')\n",
    "choice_list"
   ]
  },
  {
   "cell_type": "code",
   "execution_count": 110,
   "id": "5d2a9a4b",
   "metadata": {
    "ExecuteTime": {
     "end_time": "2023-06-27T07:28:20.642236Z",
     "start_time": "2023-06-27T07:28:20.626278Z"
    }
   },
   "outputs": [
    {
     "data": {
      "text/plain": [
       "['사과', '수박', '참외', '멜론', '오렌지']"
      ]
     },
     "execution_count": 110,
     "metadata": {},
     "output_type": "execute_result"
    }
   ],
   "source": [
    "# 2번 인덱스에 짝이 좋아하는 과일 추가하고 단톡방에 자랑하기 \n",
    "choice_list.insert(2,'참외')\n",
    "choice_list"
   ]
  },
  {
   "cell_type": "code",
   "execution_count": 80,
   "id": "37249197",
   "metadata": {
    "ExecuteTime": {
     "end_time": "2023-06-27T07:22:11.238497Z",
     "start_time": "2023-06-27T07:22:11.226512Z"
    }
   },
   "outputs": [
    {
     "data": {
      "text/plain": [
       "[['사건의 지평선', '윤하'], ['Nxde', '(여자)아이들'], ['Hype boy', '뉴진스']]"
      ]
     },
     "execution_count": 80,
     "metadata": {},
     "output_type": "execute_result"
    }
   ],
   "source": [
    "music_list=[['사건의 지평선','윤하'],['Nxde','(여자)아이들'],['Hype boy','뉴진스']]\n",
    "music_list"
   ]
  },
  {
   "cell_type": "code",
   "execution_count": 81,
   "id": "b973d952",
   "metadata": {
    "ExecuteTime": {
     "end_time": "2023-06-27T07:22:30.275640Z",
     "start_time": "2023-06-27T07:22:12.458770Z"
    }
   },
   "outputs": [
    {
     "name": "stdout",
     "output_type": "stream",
     "text": [
      "추가 위치 번호 >> 2\n",
      "노래 제목 >> Attention\n",
      "가수 >> 뉴진스\n"
     ]
    },
    {
     "data": {
      "text/plain": [
       "[['사건의 지평선', '윤하'],\n",
       " ['Nxde', '(여자)아이들'],\n",
       " ['Attention', '뉴진스'],\n",
       " ['Hype boy', '뉴진스']]"
      ]
     },
     "execution_count": 81,
     "metadata": {},
     "output_type": "execute_result"
    }
   ],
   "source": [
    "loc=int(input('추가 위치 번호 >> '))\n",
    "song=input('노래 제목 >> ')\n",
    "singer=input('가수 >> ')\n",
    "music_list.insert(loc,[song,singer])\n",
    "music_list"
   ]
  },
  {
   "cell_type": "markdown",
   "id": "51c7be7a",
   "metadata": {},
   "source": [
    "##### 리스트 값 수정하기\n",
    "- 리스트의 요소 갯수(길이)의 변경없이 값을 수정하고자 할 경우\n",
    "- 데이터의 갯수를 확인하는 과정이 필요!!!!!"
   ]
  },
  {
   "cell_type": "code",
   "execution_count": 111,
   "id": "a3eb1b93",
   "metadata": {
    "ExecuteTime": {
     "end_time": "2023-06-27T07:28:55.480315Z",
     "start_time": "2023-06-27T07:28:55.473332Z"
    }
   },
   "outputs": [
    {
     "data": {
      "text/plain": [
       "['사과', '수박', '참외', '멜론', '오렌지']"
      ]
     },
     "execution_count": 111,
     "metadata": {},
     "output_type": "execute_result"
    }
   ],
   "source": [
    "choice_list"
   ]
  },
  {
   "cell_type": "code",
   "execution_count": 112,
   "id": "39db11b5",
   "metadata": {
    "ExecuteTime": {
     "end_time": "2023-06-27T07:28:57.275329Z",
     "start_time": "2023-06-27T07:28:57.266380Z"
    }
   },
   "outputs": [
    {
     "name": "stdout",
     "output_type": "stream",
     "text": [
      "수정 전 :  사과\n",
      "수정 후 :  배\n"
     ]
    }
   ],
   "source": [
    "print('수정 전 : ',choice_list[0])\n",
    "choice_list[0]='배'\n",
    "print('수정 후 : ',choice_list[0])"
   ]
  },
  {
   "cell_type": "code",
   "execution_count": 113,
   "id": "115536d9",
   "metadata": {
    "ExecuteTime": {
     "end_time": "2023-06-27T07:28:59.396886Z",
     "start_time": "2023-06-27T07:28:59.385898Z"
    }
   },
   "outputs": [
    {
     "data": {
      "text/plain": [
       "['배', '수박', '참외', '멜론', '오렌지']"
      ]
     },
     "execution_count": 113,
     "metadata": {},
     "output_type": "execute_result"
    }
   ],
   "source": [
    "choice_list"
   ]
  },
  {
   "cell_type": "code",
   "execution_count": 114,
   "id": "bcb89220",
   "metadata": {
    "ExecuteTime": {
     "end_time": "2023-06-27T07:29:04.007534Z",
     "start_time": "2023-06-27T07:29:03.995590Z"
    }
   },
   "outputs": [
    {
     "data": {
      "text/plain": [
       "['딸', '기', '참외', '멜론', '오렌지']"
      ]
     },
     "execution_count": 114,
     "metadata": {},
     "output_type": "execute_result"
    }
   ],
   "source": [
    "# 0,1 의 데이터를 슬라이싱으로 접근하여 '딸기'이라는 1음절 값으로 할당\n",
    "choice_list[:2]='딸기'\n",
    "choice_list"
   ]
  },
  {
   "cell_type": "code",
   "execution_count": 88,
   "id": "1830da51",
   "metadata": {
    "ExecuteTime": {
     "end_time": "2023-06-27T07:23:33.434106Z",
     "start_time": "2023-06-27T07:23:33.417151Z"
    }
   },
   "outputs": [
    {
     "data": {
      "text/plain": [
       "['감', '참외', '멜론', '오렌지']"
      ]
     },
     "execution_count": 88,
     "metadata": {},
     "output_type": "execute_result"
    }
   ],
   "source": [
    "# 0,1 의 데이터를 슬라이싱으로 접근하여 '감'이라는 1음절의 값으로 할당\n",
    "choice_list[:2]='감'\n",
    "choice_list"
   ]
  },
  {
   "cell_type": "code",
   "execution_count": 89,
   "id": "98b8a07e",
   "metadata": {
    "ExecuteTime": {
     "end_time": "2023-06-27T07:23:46.905174Z",
     "start_time": "2023-06-27T07:23:46.885201Z"
    }
   },
   "outputs": [
    {
     "data": {
      "text/plain": [
       "['파', '인', '애', '플', '멜론', '오렌지']"
      ]
     },
     "execution_count": 89,
     "metadata": {},
     "output_type": "execute_result"
    }
   ],
   "source": [
    "choice_list[:2]='파인애플'\n",
    "choice_list"
   ]
  },
  {
   "cell_type": "code",
   "execution_count": 94,
   "id": "81112bc6",
   "metadata": {
    "ExecuteTime": {
     "end_time": "2023-06-27T07:25:26.638358Z",
     "start_time": "2023-06-27T07:25:26.625411Z"
    }
   },
   "outputs": [
    {
     "data": {
      "text/plain": [
       "4"
      ]
     },
     "execution_count": 94,
     "metadata": {},
     "output_type": "execute_result"
    }
   ],
   "source": [
    "list6=[5,6,7,8]\n",
    "len(list6)"
   ]
  },
  {
   "cell_type": "code",
   "execution_count": 95,
   "id": "9c67a5cb",
   "metadata": {
    "ExecuteTime": {
     "end_time": "2023-06-27T07:25:36.601170Z",
     "start_time": "2023-06-27T07:25:36.587207Z"
    }
   },
   "outputs": [
    {
     "data": {
      "text/plain": [
       "[5, 6]"
      ]
     },
     "execution_count": 95,
     "metadata": {},
     "output_type": "execute_result"
    }
   ],
   "source": [
    "list6[:2]"
   ]
  },
  {
   "cell_type": "code",
   "execution_count": 96,
   "id": "492edfe4",
   "metadata": {
    "ExecuteTime": {
     "end_time": "2023-06-27T07:25:38.216883Z",
     "start_time": "2023-06-27T07:25:38.209903Z"
    }
   },
   "outputs": [
    {
     "data": {
      "text/plain": [
       "[1, 7, 8]"
      ]
     },
     "execution_count": 96,
     "metadata": {},
     "output_type": "execute_result"
    }
   ],
   "source": [
    "list6[:2]=[1] # [] 로 묶은 데이터 1개만 대입해서 리스트의 길이가 변경됨 \n",
    "list6"
   ]
  },
  {
   "cell_type": "markdown",
   "id": "d69b1dcf",
   "metadata": {},
   "source": [
    "##### 리스트 값 삭제\n",
    "- del 키워드 : 인덱스 번호를 이용해서 삭제\n",
    "- remove() 함수 : 값을 이용해서 삭제"
   ]
  },
  {
   "cell_type": "code",
   "execution_count": 120,
   "id": "cf876169",
   "metadata": {
    "ExecuteTime": {
     "end_time": "2023-06-27T07:34:24.889021Z",
     "start_time": "2023-06-27T07:34:24.881014Z"
    }
   },
   "outputs": [],
   "source": [
    "list7=[0,1,2,3,4,5,6,7]\n",
    "# list7 에서 숫자 4 삭제해보기\n",
    "# del 키워드 사용\n",
    "del list7[4]"
   ]
  },
  {
   "cell_type": "code",
   "execution_count": 121,
   "id": "dd987f5f",
   "metadata": {
    "ExecuteTime": {
     "end_time": "2023-06-27T07:34:26.135531Z",
     "start_time": "2023-06-27T07:34:26.128578Z"
    }
   },
   "outputs": [
    {
     "data": {
      "text/plain": [
       "[0, 1, 2, 3, 5, 6, 7]"
      ]
     },
     "execution_count": 121,
     "metadata": {},
     "output_type": "execute_result"
    }
   ],
   "source": [
    "list7"
   ]
  },
  {
   "cell_type": "code",
   "execution_count": 122,
   "id": "1c593efb",
   "metadata": {
    "ExecuteTime": {
     "end_time": "2023-06-27T07:35:36.627011Z",
     "start_time": "2023-06-27T07:35:36.610039Z"
    }
   },
   "outputs": [],
   "source": [
    "# 1~3 까지 숫자를 삭제해보기\n",
    "# 여러개의 데이터에 접근해서 삭제할때 유용한 기능 --> 슬라이싱\n",
    "del list7[1:4]"
   ]
  },
  {
   "cell_type": "code",
   "execution_count": 123,
   "id": "d8afbe03",
   "metadata": {
    "ExecuteTime": {
     "end_time": "2023-06-27T07:35:40.539875Z",
     "start_time": "2023-06-27T07:35:40.530924Z"
    }
   },
   "outputs": [
    {
     "data": {
      "text/plain": [
       "[0, 5, 6, 7]"
      ]
     },
     "execution_count": 123,
     "metadata": {},
     "output_type": "execute_result"
    }
   ],
   "source": [
    "list7"
   ]
  },
  {
   "cell_type": "code",
   "execution_count": 125,
   "id": "f1752938",
   "metadata": {
    "ExecuteTime": {
     "end_time": "2023-06-27T07:36:47.952287Z",
     "start_time": "2023-06-27T07:36:47.938313Z"
    }
   },
   "outputs": [],
   "source": [
    "# remove() 함수 \n",
    "list7=[0,1,2,3,4,5,6,7]\n",
    "# 3 삭제\n",
    "list7.remove(3)"
   ]
  },
  {
   "cell_type": "code",
   "execution_count": 126,
   "id": "42a52dfd",
   "metadata": {
    "ExecuteTime": {
     "end_time": "2023-06-27T07:36:55.652004Z",
     "start_time": "2023-06-27T07:36:55.642012Z"
    }
   },
   "outputs": [
    {
     "data": {
      "text/plain": [
       "[0, 1, 2, 4, 5, 6, 7]"
      ]
     },
     "execution_count": 126,
     "metadata": {},
     "output_type": "execute_result"
    }
   ],
   "source": [
    "list7"
   ]
  },
  {
   "cell_type": "code",
   "execution_count": 127,
   "id": "44456c76",
   "metadata": {
    "ExecuteTime": {
     "end_time": "2023-06-27T07:37:11.042169Z",
     "start_time": "2023-06-27T07:37:11.034202Z"
    }
   },
   "outputs": [
    {
     "ename": "ValueError",
     "evalue": "list.remove(x): x not in list",
     "output_type": "error",
     "traceback": [
      "\u001b[1;31m---------------------------------------------------------------------------\u001b[0m",
      "\u001b[1;31mValueError\u001b[0m                                Traceback (most recent call last)",
      "\u001b[1;32m~\\AppData\\Local\\Temp\\ipykernel_4348\\4119392634.py\u001b[0m in \u001b[0;36m<module>\u001b[1;34m\u001b[0m\n\u001b[1;32m----> 1\u001b[1;33m \u001b[0mlist7\u001b[0m\u001b[1;33m.\u001b[0m\u001b[0mremove\u001b[0m\u001b[1;33m(\u001b[0m\u001b[1;36m3\u001b[0m\u001b[1;33m)\u001b[0m\u001b[1;33m\u001b[0m\u001b[1;33m\u001b[0m\u001b[0m\n\u001b[0m",
      "\u001b[1;31mValueError\u001b[0m: list.remove(x): x not in list"
     ]
    }
   ],
   "source": [
    "# 삭제한 숫자를 다시 삭제 시도시 오류 발생 \n",
    "# list7.remove(3) # 오류난 코드는 주석처리~ "
   ]
  },
  {
   "cell_type": "markdown",
   "id": "ece42045",
   "metadata": {},
   "source": [
    "##### 리스트 정렬 : sort()\n",
    "- sort() 기본값 : 오름차순 정렬"
   ]
  },
  {
   "cell_type": "code",
   "execution_count": 130,
   "id": "7e0fa7fd",
   "metadata": {
    "ExecuteTime": {
     "end_time": "2023-06-27T07:41:41.582671Z",
     "start_time": "2023-06-27T07:41:41.576714Z"
    }
   },
   "outputs": [
    {
     "data": {
      "text/plain": [
       "[9, 77, 13, 51, 2, 84, 21, 3]"
      ]
     },
     "execution_count": 130,
     "metadata": {},
     "output_type": "execute_result"
    }
   ],
   "source": [
    "list8=[9,77,13,51,2,84,21,3]\n",
    "list8"
   ]
  },
  {
   "cell_type": "code",
   "execution_count": 131,
   "id": "167bd518",
   "metadata": {
    "ExecuteTime": {
     "end_time": "2023-06-27T07:42:07.328236Z",
     "start_time": "2023-06-27T07:42:07.323251Z"
    }
   },
   "outputs": [],
   "source": [
    "list8.sort()"
   ]
  },
  {
   "cell_type": "code",
   "execution_count": 132,
   "id": "8b8f1392",
   "metadata": {
    "ExecuteTime": {
     "end_time": "2023-06-27T07:42:12.040510Z",
     "start_time": "2023-06-27T07:42:12.025576Z"
    }
   },
   "outputs": [
    {
     "data": {
      "text/plain": [
       "[2, 3, 9, 13, 21, 51, 77, 84]"
      ]
     },
     "execution_count": 132,
     "metadata": {},
     "output_type": "execute_result"
    }
   ],
   "source": [
    "list8"
   ]
  },
  {
   "cell_type": "code",
   "execution_count": 133,
   "id": "7ffdf702",
   "metadata": {
    "ExecuteTime": {
     "end_time": "2023-06-27T07:42:35.184420Z",
     "start_time": "2023-06-27T07:42:35.168442Z"
    }
   },
   "outputs": [],
   "source": [
    "list8.reverse()"
   ]
  },
  {
   "cell_type": "code",
   "execution_count": 134,
   "id": "40dedb40",
   "metadata": {
    "ExecuteTime": {
     "end_time": "2023-06-27T07:42:39.169424Z",
     "start_time": "2023-06-27T07:42:39.153459Z"
    }
   },
   "outputs": [
    {
     "data": {
      "text/plain": [
       "[84, 77, 51, 21, 13, 9, 3, 2]"
      ]
     },
     "execution_count": 134,
     "metadata": {},
     "output_type": "execute_result"
    }
   ],
   "source": [
    "list8"
   ]
  },
  {
   "cell_type": "code",
   "execution_count": 137,
   "id": "e345ca9a",
   "metadata": {
    "ExecuteTime": {
     "end_time": "2023-06-27T07:44:16.026678Z",
     "start_time": "2023-06-27T07:44:16.016680Z"
    }
   },
   "outputs": [
    {
     "data": {
      "text/plain": [
       "[2, 3, 9, 13, 21, 51, 77, 84]"
      ]
     },
     "execution_count": 137,
     "metadata": {},
     "output_type": "execute_result"
    }
   ],
   "source": [
    "# 오름차순 정렬하기\n",
    "list8[::-1]"
   ]
  },
  {
   "cell_type": "code",
   "execution_count": 138,
   "id": "e028051b",
   "metadata": {
    "ExecuteTime": {
     "end_time": "2023-06-27T07:44:16.741412Z",
     "start_time": "2023-06-27T07:44:16.737399Z"
    }
   },
   "outputs": [
    {
     "data": {
      "text/plain": [
       "[84, 77, 51, 21, 13, 9, 3, 2]"
      ]
     },
     "execution_count": 138,
     "metadata": {},
     "output_type": "execute_result"
    }
   ],
   "source": [
    "list8"
   ]
  },
  {
   "cell_type": "markdown",
   "id": "1595e110",
   "metadata": {},
   "source": [
    "##### 리스트 값 위치 반환 : index('찾을 요소')"
   ]
  },
  {
   "cell_type": "code",
   "execution_count": 139,
   "id": "da7e6d9c",
   "metadata": {
    "ExecuteTime": {
     "end_time": "2023-06-27T07:49:12.230565Z",
     "start_time": "2023-06-27T07:49:12.218596Z"
    }
   },
   "outputs": [
    {
     "data": {
      "text/plain": [
       "[84, 77, 51, 21, 13, 9, 3, 2]"
      ]
     },
     "execution_count": 139,
     "metadata": {},
     "output_type": "execute_result"
    }
   ],
   "source": [
    "list8"
   ]
  },
  {
   "cell_type": "code",
   "execution_count": 140,
   "id": "4fc2af16",
   "metadata": {
    "ExecuteTime": {
     "end_time": "2023-06-27T07:49:44.639638Z",
     "start_time": "2023-06-27T07:49:44.633657Z"
    }
   },
   "outputs": [
    {
     "data": {
      "text/plain": [
       "2"
      ]
     },
     "execution_count": 140,
     "metadata": {},
     "output_type": "execute_result"
    }
   ],
   "source": [
    "# 51 의 인덱스 번호를 알려줘~~~\n",
    "list8.index(51)"
   ]
  },
  {
   "cell_type": "code",
   "execution_count": 142,
   "id": "b40c1f89",
   "metadata": {
    "ExecuteTime": {
     "end_time": "2023-06-27T07:51:18.476947Z",
     "start_time": "2023-06-27T07:51:18.465985Z"
    }
   },
   "outputs": [
    {
     "data": {
      "text/plain": [
       "5"
      ]
     },
     "execution_count": 142,
     "metadata": {},
     "output_type": "execute_result"
    }
   ],
   "source": [
    "test_str='빅데이터 8차반입니다~~!'\n",
    "# '8'의 인덱스 번호 찾기\n",
    "test_str.index('8')"
   ]
  },
  {
   "cell_type": "markdown",
   "id": "4fbc0262",
   "metadata": {},
   "source": [
    "##### 마지막 값을 반환하고 리스트에서 제거하는 함수 : pop()"
   ]
  },
  {
   "cell_type": "code",
   "execution_count": 143,
   "id": "05c8c325",
   "metadata": {
    "ExecuteTime": {
     "end_time": "2023-06-27T07:52:58.469658Z",
     "start_time": "2023-06-27T07:52:58.449712Z"
    }
   },
   "outputs": [
    {
     "data": {
      "text/plain": [
       "'e'"
      ]
     },
     "execution_count": 143,
     "metadata": {},
     "output_type": "execute_result"
    }
   ],
   "source": [
    "list9=['a','b','c','d','e']\n",
    "list9.pop()"
   ]
  },
  {
   "cell_type": "code",
   "execution_count": 144,
   "id": "fdec30b3",
   "metadata": {
    "ExecuteTime": {
     "end_time": "2023-06-27T07:53:02.822017Z",
     "start_time": "2023-06-27T07:53:02.815034Z"
    }
   },
   "outputs": [
    {
     "data": {
      "text/plain": [
       "['a', 'b', 'c', 'd']"
      ]
     },
     "execution_count": 144,
     "metadata": {},
     "output_type": "execute_result"
    }
   ],
   "source": [
    "list9"
   ]
  },
  {
   "cell_type": "markdown",
   "id": "0654d7ca",
   "metadata": {},
   "source": [
    "### 튜플(tuple)\n",
    "- 파이썬의 자료구조 형태 중 하나\n",
    "- 순서가 있는 집합(인덱싱, 슬라이싱 가능)\n",
    "- 소괄호 () 로 작성되어지고, 튜플 내부의 값은 콤마 (,) 로 구분\n",
    "- 하나의 튜플에는 다양한 자료형을 포함\n",
    "- 데이터의 추가, 수정, 삭제가 불가능\n",
    "- 언제 사용할까? 프로그램이 실행되는 동안 요소값이 항상 변하지 않기를 바란다거나 \n",
    "    값이 바뀔까 걱정하고 싶지 않을 경우 사용 "
   ]
  },
  {
   "cell_type": "code",
   "execution_count": 145,
   "id": "3740d685",
   "metadata": {
    "ExecuteTime": {
     "end_time": "2023-06-27T08:23:03.049420Z",
     "start_time": "2023-06-27T08:23:03.032439Z"
    }
   },
   "outputs": [
    {
     "data": {
      "text/plain": [
       "['딸기', '바나나', '복숭아', '체리', '사과']"
      ]
     },
     "execution_count": 145,
     "metadata": {},
     "output_type": "execute_result"
    }
   ],
   "source": [
    "list10=['딸기','바나나','복숭아','체리','사과']\n",
    "list10"
   ]
  },
  {
   "cell_type": "markdown",
   "id": "1ff41946",
   "metadata": {},
   "source": [
    "### 멤버 연산자\n",
    "- in, not in"
   ]
  },
  {
   "cell_type": "code",
   "execution_count": 164,
   "id": "f4525c18",
   "metadata": {
    "ExecuteTime": {
     "end_time": "2023-06-27T08:34:04.334447Z",
     "start_time": "2023-06-27T08:34:03.277982Z"
    }
   },
   "outputs": [
    {
     "name": "stdout",
     "output_type": "stream",
     "text": [
      "**************************************************\n",
      "검색할 문자를 입력하세요 >> 배\n",
      "배는(은) 리스트에 들어있지 않습니다.\n",
      "**************************************************\n"
     ]
    }
   ],
   "source": [
    "print('*'*50)\n",
    "str=input('검색할 문자를 입력하세요 >> ')\n",
    "if str in list10:\n",
    "    print(f'{str}는(은) 리스트 {list10.index(str)}번째 인덱스에 들어 있습니다.')\n",
    "else:\n",
    "    print(f'{str}는(은) 리스트에 들어있지 않습니다.')\n",
    "print('*'*50)"
   ]
  },
  {
   "cell_type": "markdown",
   "id": "57c20369",
   "metadata": {},
   "source": [
    "### 문자열 개수 반환하는 함수 : count()"
   ]
  },
  {
   "cell_type": "code",
   "execution_count": 166,
   "id": "8884c2fe",
   "metadata": {
    "ExecuteTime": {
     "end_time": "2023-06-27T08:37:11.620638Z",
     "start_time": "2023-06-27T08:37:11.614653Z"
    }
   },
   "outputs": [
    {
     "data": {
      "text/plain": [
       "10"
      ]
     },
     "execution_count": 166,
     "metadata": {},
     "output_type": "execute_result"
    }
   ],
   "source": [
    "a='testtesttesteseseeesesetft'\n",
    "a.count('e')"
   ]
  },
  {
   "cell_type": "code",
   "execution_count": 167,
   "id": "be186ab1",
   "metadata": {
    "ExecuteTime": {
     "end_time": "2023-06-27T08:37:33.124424Z",
     "start_time": "2023-06-27T08:37:33.110491Z"
    }
   },
   "outputs": [
    {
     "data": {
      "text/plain": [
       "'Hi, My name is Juhee'"
      ]
     },
     "execution_count": 167,
     "metadata": {},
     "output_type": "execute_result"
    }
   ],
   "source": [
    "s='Hi, My name is Juhee'\n",
    "s"
   ]
  },
  {
   "cell_type": "code",
   "execution_count": 181,
   "id": "a8d04374",
   "metadata": {
    "ExecuteTime": {
     "end_time": "2023-06-27T08:47:39.124065Z",
     "start_time": "2023-06-27T08:47:38.004833Z"
    }
   },
   "outputs": [
    {
     "name": "stdout",
     "output_type": "stream",
     "text": [
      "**************************************************\n",
      "검색할 문자를 입력하세요 >> e\n",
      "'e'은(는) 3번 들어 있습니다.\n",
      "**************************************************\n"
     ]
    }
   ],
   "source": [
    "print('*'*50)\n",
    "str=input('검색할 문자를 입력하세요 >> ')\n",
    "if str in s:\n",
    "    print(f'\\'{str}\\'은(는) {s.count(str)}번 들어 있습니다.')\n",
    "else:\n",
    "    print(f'\\'{str}\\'은(는) 문자열에 들어있지 않습니다.')\n",
    "print('*'*50)"
   ]
  },
  {
   "cell_type": "markdown",
   "id": "00c4ba48",
   "metadata": {},
   "source": [
    "### 패킹과 언패킹"
   ]
  },
  {
   "cell_type": "code",
   "execution_count": 182,
   "id": "7f31be66",
   "metadata": {
    "ExecuteTime": {
     "end_time": "2023-06-27T08:50:51.306093Z",
     "start_time": "2023-06-27T08:50:51.293130Z"
    }
   },
   "outputs": [
    {
     "data": {
      "text/plain": [
       "[1, 2, 3]"
      ]
     },
     "execution_count": 182,
     "metadata": {},
     "output_type": "execute_result"
    }
   ],
   "source": [
    "t=[1,2,3]\n",
    "t"
   ]
  },
  {
   "cell_type": "code",
   "execution_count": 183,
   "id": "d484db55",
   "metadata": {
    "ExecuteTime": {
     "end_time": "2023-06-27T08:51:18.818489Z",
     "start_time": "2023-06-27T08:51:18.805524Z"
    }
   },
   "outputs": [
    {
     "data": {
      "text/plain": [
       "([1, 2, 3], 1, 2, 3)"
      ]
     },
     "execution_count": 183,
     "metadata": {},
     "output_type": "execute_result"
    }
   ],
   "source": [
    "a,b,c=t\n",
    "t,a,b,c"
   ]
  },
  {
   "cell_type": "code",
   "execution_count": 185,
   "id": "0ba43c8d",
   "metadata": {
    "ExecuteTime": {
     "end_time": "2023-06-27T08:51:36.284901Z",
     "start_time": "2023-06-27T08:51:36.268943Z"
    }
   },
   "outputs": [
    {
     "data": {
      "text/plain": [
       "([1, 2, 3], 1, [2, 3])"
      ]
     },
     "execution_count": 185,
     "metadata": {},
     "output_type": "execute_result"
    }
   ],
   "source": [
    "a,*b=t\n",
    "t,a,b"
   ]
  },
  {
   "cell_type": "markdown",
   "id": "1c89aac8",
   "metadata": {},
   "source": [
    "#### 2개의 변수 값을 바로 치환"
   ]
  },
  {
   "cell_type": "code",
   "execution_count": null,
   "id": "e332cdf5",
   "metadata": {},
   "outputs": [],
   "source": []
  },
  {
   "cell_type": "code",
   "execution_count": null,
   "id": "66d1bc01",
   "metadata": {},
   "outputs": [],
   "source": []
  },
  {
   "cell_type": "code",
   "execution_count": null,
   "id": "191420bc",
   "metadata": {},
   "outputs": [],
   "source": []
  },
  {
   "cell_type": "code",
   "execution_count": null,
   "id": "8380d549",
   "metadata": {},
   "outputs": [],
   "source": []
  },
  {
   "cell_type": "code",
   "execution_count": null,
   "id": "996491b8",
   "metadata": {},
   "outputs": [],
   "source": []
  },
  {
   "cell_type": "code",
   "execution_count": null,
   "id": "e66c7828",
   "metadata": {},
   "outputs": [],
   "source": []
  },
  {
   "cell_type": "code",
   "execution_count": null,
   "id": "9f7163b8",
   "metadata": {},
   "outputs": [],
   "source": []
  },
  {
   "cell_type": "code",
   "execution_count": null,
   "id": "3b45cc9a",
   "metadata": {},
   "outputs": [],
   "source": []
  },
  {
   "cell_type": "code",
   "execution_count": null,
   "id": "7e511f69",
   "metadata": {},
   "outputs": [],
   "source": []
  }
 ],
 "metadata": {
  "kernelspec": {
   "display_name": "Python 3 (ipykernel)",
   "language": "python",
   "name": "python3"
  },
  "language_info": {
   "codemirror_mode": {
    "name": "ipython",
    "version": 3
   },
   "file_extension": ".py",
   "mimetype": "text/x-python",
   "name": "python",
   "nbconvert_exporter": "python",
   "pygments_lexer": "ipython3",
   "version": "3.9.13"
  },
  "toc": {
   "base_numbering": 1,
   "nav_menu": {},
   "number_sections": true,
   "sideBar": true,
   "skip_h1_title": false,
   "title_cell": "Table of Contents",
   "title_sidebar": "Contents",
   "toc_cell": false,
   "toc_position": {},
   "toc_section_display": true,
   "toc_window_display": false
  },
  "varInspector": {
   "cols": {
    "lenName": 16,
    "lenType": 16,
    "lenVar": 40
   },
   "kernels_config": {
    "python": {
     "delete_cmd_postfix": "",
     "delete_cmd_prefix": "del ",
     "library": "var_list.py",
     "varRefreshCmd": "print(var_dic_list())"
    },
    "r": {
     "delete_cmd_postfix": ") ",
     "delete_cmd_prefix": "rm(",
     "library": "var_list.r",
     "varRefreshCmd": "cat(var_dic_list()) "
    }
   },
   "types_to_exclude": [
    "module",
    "function",
    "builtin_function_or_method",
    "instance",
    "_Feature"
   ],
   "window_display": false
  }
 },
 "nbformat": 4,
 "nbformat_minor": 5
}
