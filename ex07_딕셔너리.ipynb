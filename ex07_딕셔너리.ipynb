{
 "cells": [
  {
   "cell_type": "markdown",
   "id": "d35268a6",
   "metadata": {},
   "source": [
    "### 딕셔너리란 ?\n",
    "- key 와 Value 를 한쌍으로 갖는 자료형\n",
    "- 불변하는 Key 와 가변/불면 적인 Value 로 매핑된 순서가 없는 집합\n",
    "- 인덱싱, 슬라이싱이 불가능"
   ]
  },
  {
   "cell_type": "markdown",
   "id": "8e6ee6dc",
   "metadata": {},
   "source": [
    "### 딕셔너리 선언"
   ]
  },
  {
   "cell_type": "code",
   "execution_count": 43,
   "id": "5dca9287",
   "metadata": {
    "ExecuteTime": {
     "end_time": "2023-06-30T07:15:46.699081Z",
     "start_time": "2023-06-30T07:15:46.684120Z"
    }
   },
   "outputs": [],
   "source": [
    "# 딕셔너리명 = {Key : Value, Key : Value, .....}\n",
    "a={} # 빈 딕셔너리\n",
    "b={'name':'ey'} # 이름정보(문자열)를 담은 딕셔너리\n",
    "c={1:'ey',2:23} # 하나의 딕셔너리에는 다양한 자료형을 담을 수 있음\n",
    "d={'name':['우석','동영','유성']} # Value 값으로 리스트로 묶어서 담을 수 있음\n",
    "\n",
    "# 명확하게 뭔가를 정의하고 싶을 때 사용"
   ]
  },
  {
   "cell_type": "code",
   "execution_count": 44,
   "id": "217afeb8",
   "metadata": {
    "ExecuteTime": {
     "end_time": "2023-06-30T07:15:47.170755Z",
     "start_time": "2023-06-30T07:15:47.156795Z"
    }
   },
   "outputs": [
    {
     "name": "stdout",
     "output_type": "stream",
     "text": [
      "{}\n",
      "{'name': 'ey'}\n",
      "{1: 'ey', 2: 23}\n",
      "{'name': ['우석', '동영', '유성']}\n"
     ]
    }
   ],
   "source": [
    "print(a)\n",
    "print(b)\n",
    "print(c)\n",
    "print(d)"
   ]
  },
  {
   "cell_type": "code",
   "execution_count": 45,
   "id": "b9638891",
   "metadata": {
    "ExecuteTime": {
     "end_time": "2023-06-30T07:15:47.975835Z",
     "start_time": "2023-06-30T07:15:47.965858Z"
    }
   },
   "outputs": [
    {
     "data": {
      "text/plain": [
       "{'name': 'JW', 'age': 20, 'phone': '010-0000-0000'}"
      ]
     },
     "execution_count": 45,
     "metadata": {},
     "output_type": "execute_result"
    }
   ],
   "source": [
    "# 이름, 나이, 전화번호 정보를 담고있는 딕셔너리 선언해보기\n",
    "dic1={'name':'JW','age':20,'phone':'010-0000-0000'}\n",
    "dic1"
   ]
  },
  {
   "cell_type": "code",
   "execution_count": 46,
   "id": "a770e7cd",
   "metadata": {
    "ExecuteTime": {
     "end_time": "2023-06-30T07:15:50.615928Z",
     "start_time": "2023-06-30T07:15:50.604984Z"
    }
   },
   "outputs": [
    {
     "data": {
      "text/plain": [
       "dict"
      ]
     },
     "execution_count": 46,
     "metadata": {},
     "output_type": "execute_result"
    }
   ],
   "source": [
    "type(dic1)"
   ]
  },
  {
   "cell_type": "markdown",
   "id": "511eab55",
   "metadata": {},
   "source": [
    "### 딕셔너리 값 추가\n",
    "- 새로운 키 : 새로운 값\n",
    "- 없는 키값을 부르고 value 값을 대입"
   ]
  },
  {
   "cell_type": "code",
   "execution_count": 47,
   "id": "14c5b4ec",
   "metadata": {
    "ExecuteTime": {
     "end_time": "2023-06-30T07:15:54.093757Z",
     "start_time": "2023-06-30T07:15:54.083759Z"
    }
   },
   "outputs": [],
   "source": [
    "dic1['birth']='03/01'"
   ]
  },
  {
   "cell_type": "code",
   "execution_count": 48,
   "id": "896d318c",
   "metadata": {
    "ExecuteTime": {
     "end_time": "2023-06-30T07:15:55.338883Z",
     "start_time": "2023-06-30T07:15:55.332899Z"
    }
   },
   "outputs": [
    {
     "data": {
      "text/plain": [
       "{'name': 'JW', 'age': 20, 'phone': '010-0000-0000', 'birth': '03/01'}"
      ]
     },
     "execution_count": 48,
     "metadata": {},
     "output_type": "execute_result"
    }
   ],
   "source": [
    "dic1"
   ]
  },
  {
   "cell_type": "code",
   "execution_count": 49,
   "id": "9e027754",
   "metadata": {
    "ExecuteTime": {
     "end_time": "2023-06-30T07:15:56.982299Z",
     "start_time": "2023-06-30T07:15:56.971330Z"
    }
   },
   "outputs": [
    {
     "data": {
      "text/plain": [
       "{'노래제목': '사건의 지평선'}"
      ]
     },
     "execution_count": 49,
     "metadata": {},
     "output_type": "execute_result"
    }
   ],
   "source": [
    "dic_test={'노래제목':'사건의 지평선'}\n",
    "dic_test"
   ]
  },
  {
   "cell_type": "code",
   "execution_count": 50,
   "id": "4978da6a",
   "metadata": {
    "ExecuteTime": {
     "end_time": "2023-06-30T07:15:57.482170Z",
     "start_time": "2023-06-30T07:15:57.467210Z"
    }
   },
   "outputs": [
    {
     "data": {
      "text/plain": [
       "{'노래제목': '사건의 지평선', '가수': '윤하', '날짜': '2022.12.01'}"
      ]
     },
     "execution_count": 50,
     "metadata": {},
     "output_type": "execute_result"
    }
   ],
   "source": [
    "dic_test['가수']='윤하'\n",
    "dic_test['날짜']='2022.12.01'\n",
    "dic_test"
   ]
  },
  {
   "cell_type": "markdown",
   "id": "9f46aabf",
   "metadata": {},
   "source": [
    "### 딕셔너리 값 가져오기 (데이터 접근하기)"
   ]
  },
  {
   "cell_type": "code",
   "execution_count": 9,
   "id": "61174db7",
   "metadata": {
    "ExecuteTime": {
     "end_time": "2023-06-30T06:54:01.751694Z",
     "start_time": "2023-06-30T06:54:01.738748Z"
    }
   },
   "outputs": [
    {
     "data": {
      "text/plain": [
       "{'name': 'JW', 'age': 20, 'phone': '010-0000-0000', 'birth': '03/01'}"
      ]
     },
     "execution_count": 9,
     "metadata": {},
     "output_type": "execute_result"
    }
   ],
   "source": [
    "dic1"
   ]
  },
  {
   "cell_type": "code",
   "execution_count": 10,
   "id": "df98bfe0",
   "metadata": {
    "ExecuteTime": {
     "end_time": "2023-06-30T06:54:01.767766Z",
     "start_time": "2023-06-30T06:54:01.752701Z"
    }
   },
   "outputs": [
    {
     "data": {
      "text/plain": [
       "'JW'"
      ]
     },
     "execution_count": 10,
     "metadata": {},
     "output_type": "execute_result"
    }
   ],
   "source": [
    "# dic1 에서 이름 가져오기\n",
    "dic1['name']"
   ]
  },
  {
   "cell_type": "code",
   "execution_count": 11,
   "id": "7a366894",
   "metadata": {
    "ExecuteTime": {
     "end_time": "2023-06-30T06:54:01.783720Z",
     "start_time": "2023-06-30T06:54:01.768755Z"
    }
   },
   "outputs": [
    {
     "data": {
      "text/plain": [
       "'010-0000-0000'"
      ]
     },
     "execution_count": 11,
     "metadata": {},
     "output_type": "execute_result"
    }
   ],
   "source": [
    "# dic1 에서 폰 정보 가져오기\n",
    "dic1['phone']"
   ]
  },
  {
   "cell_type": "code",
   "execution_count": 12,
   "id": "a845e1a3",
   "metadata": {
    "ExecuteTime": {
     "end_time": "2023-06-30T06:54:01.799677Z",
     "start_time": "2023-06-30T06:54:01.784698Z"
    }
   },
   "outputs": [
    {
     "data": {
      "text/plain": [
       "'JW'"
      ]
     },
     "execution_count": 12,
     "metadata": {},
     "output_type": "execute_result"
    }
   ],
   "source": [
    "# 데이터에 접근할 때 사용하는 함수 : get(키)\n",
    "dic1.get('name')"
   ]
  },
  {
   "cell_type": "code",
   "execution_count": 13,
   "id": "6a07dd46",
   "metadata": {
    "ExecuteTime": {
     "end_time": "2023-06-30T06:54:01.815144Z",
     "start_time": "2023-06-30T06:54:01.800682Z"
    }
   },
   "outputs": [
    {
     "data": {
      "text/plain": [
       "'03/01'"
      ]
     },
     "execution_count": 13,
     "metadata": {},
     "output_type": "execute_result"
    }
   ],
   "source": [
    "# 생일 데이터를 가져오기\n",
    "dic1.get('birth')"
   ]
  },
  {
   "cell_type": "markdown",
   "id": "cd9f2bd2",
   "metadata": {},
   "source": [
    "#### 딕셔너리 데이터 접근 방법 비교\n",
    "- 딕셔너리명[키] vs 딕셔너리명.get(키)"
   ]
  },
  {
   "cell_type": "code",
   "execution_count": 14,
   "id": "ffcc935a",
   "metadata": {
    "ExecuteTime": {
     "end_time": "2023-06-30T06:54:01.938782Z",
     "start_time": "2023-06-30T06:54:01.816139Z"
    }
   },
   "outputs": [
    {
     "ename": "KeyError",
     "evalue": "'blood'",
     "output_type": "error",
     "traceback": [
      "\u001b[1;31m---------------------------------------------------------------------------\u001b[0m",
      "\u001b[1;31mKeyError\u001b[0m                                  Traceback (most recent call last)",
      "\u001b[1;32m~\\AppData\\Local\\Temp\\ipykernel_3692\\4112285173.py\u001b[0m in \u001b[0;36m<module>\u001b[1;34m\u001b[0m\n\u001b[0;32m      1\u001b[0m \u001b[1;31m# 1. 딕셔너리명[키]로 접근할 때\u001b[0m\u001b[1;33m\u001b[0m\u001b[1;33m\u001b[0m\u001b[0m\n\u001b[1;32m----> 2\u001b[1;33m \u001b[0mdic1\u001b[0m\u001b[1;33m[\u001b[0m\u001b[1;34m'blood'\u001b[0m\u001b[1;33m]\u001b[0m\u001b[1;33m\u001b[0m\u001b[1;33m\u001b[0m\u001b[0m\n\u001b[0m\u001b[0;32m      3\u001b[0m \u001b[1;31m# 없는 키값을 부른다면 오류 발생\u001b[0m\u001b[1;33m\u001b[0m\u001b[1;33m\u001b[0m\u001b[0m\n",
      "\u001b[1;31mKeyError\u001b[0m: 'blood'"
     ]
    }
   ],
   "source": [
    "# 1. 딕셔너리명[키]로 접근할 때\n",
    "dic1['blood']\n",
    "# 없는 키값을 부른다면 오류 발생"
   ]
  },
  {
   "cell_type": "code",
   "execution_count": null,
   "id": "0c05dc3e",
   "metadata": {
    "ExecuteTime": {
     "end_time": "2023-06-30T06:54:01.946760Z",
     "start_time": "2023-06-30T06:54:01.946760Z"
    }
   },
   "outputs": [],
   "source": [
    "# 2. 딕셔너리명.get(키)로 접근할 때\n",
    "a=dic1.get('blood')\n",
    "print(a)"
   ]
  },
  {
   "cell_type": "code",
   "execution_count": null,
   "id": "0c5ec0e7",
   "metadata": {
    "ExecuteTime": {
     "end_time": "2023-06-30T06:54:01.947758Z",
     "start_time": "2023-06-30T06:54:01.947758Z"
    }
   },
   "outputs": [],
   "source": [
    "a"
   ]
  },
  {
   "cell_type": "code",
   "execution_count": null,
   "id": "b3445376",
   "metadata": {
    "ExecuteTime": {
     "end_time": "2023-06-30T06:54:01.949752Z",
     "start_time": "2023-06-30T06:54:01.949752Z"
    }
   },
   "outputs": [],
   "source": [
    "a=dic1['blood']"
   ]
  },
  {
   "cell_type": "code",
   "execution_count": null,
   "id": "9d6370eb",
   "metadata": {
    "ExecuteTime": {
     "end_time": "2023-06-30T06:54:01.950749Z",
     "start_time": "2023-06-30T06:54:01.950749Z"
    }
   },
   "outputs": [],
   "source": [
    "print(a)"
   ]
  },
  {
   "cell_type": "code",
   "execution_count": null,
   "id": "86dd51ab",
   "metadata": {
    "ExecuteTime": {
     "end_time": "2023-06-30T06:54:01.951746Z",
     "start_time": "2023-06-30T06:54:01.951746Z"
    }
   },
   "outputs": [],
   "source": [
    "a"
   ]
  },
  {
   "cell_type": "code",
   "execution_count": null,
   "id": "8e8e8086",
   "metadata": {
    "ExecuteTime": {
     "end_time": "2023-06-30T06:54:01.952744Z",
     "start_time": "2023-06-30T06:54:01.952744Z"
    }
   },
   "outputs": [],
   "source": [
    "# 예외 처리 : try ~ except\n",
    "try:\n",
    "    result=dic1['blood']\n",
    "    result\n",
    "except KeyError:\n",
    "    print('없는 키값입니다.')"
   ]
  },
  {
   "cell_type": "markdown",
   "id": "a13ba477",
   "metadata": {},
   "source": [
    "### 딕셔너리 관련 함수\n",
    "- 데이터에 접근하는 방법들"
   ]
  },
  {
   "cell_type": "code",
   "execution_count": null,
   "id": "d8fb77a5",
   "metadata": {
    "ExecuteTime": {
     "end_time": "2023-06-30T06:54:01.953741Z",
     "start_time": "2023-06-30T06:54:01.953741Z"
    }
   },
   "outputs": [],
   "source": [
    "dic1"
   ]
  },
  {
   "cell_type": "markdown",
   "id": "1e374447",
   "metadata": {},
   "source": [
    "#### 딕셔너리 키값만 가져오기"
   ]
  },
  {
   "cell_type": "code",
   "execution_count": null,
   "id": "3560d2f0",
   "metadata": {
    "ExecuteTime": {
     "end_time": "2023-06-30T06:54:01.954738Z",
     "start_time": "2023-06-30T06:54:01.954738Z"
    }
   },
   "outputs": [],
   "source": [
    "dic1.keys()"
   ]
  },
  {
   "cell_type": "code",
   "execution_count": null,
   "id": "63c7673b",
   "metadata": {
    "ExecuteTime": {
     "end_time": "2023-06-30T06:54:01.955736Z",
     "start_time": "2023-06-30T06:54:01.955736Z"
    }
   },
   "outputs": [],
   "source": [
    "# name 이라는 키에 접근하고 싶다 => 키 값을 인덱싱하겠다.\n",
    "# 리스트로 형변환하여 키 값들을 인덱싱으로 활용할 수 있음.\n",
    "list(dic1.keys())[0]"
   ]
  },
  {
   "cell_type": "code",
   "execution_count": null,
   "id": "f44d07a3",
   "metadata": {
    "ExecuteTime": {
     "end_time": "2023-06-30T06:54:01.956733Z",
     "start_time": "2023-06-30T06:54:01.956733Z"
    }
   },
   "outputs": [],
   "source": [
    "list(dic1.keys())[2]"
   ]
  },
  {
   "cell_type": "markdown",
   "id": "d3e9e131",
   "metadata": {},
   "source": [
    "#### 딕셔너리 value 값만 가져오기"
   ]
  },
  {
   "cell_type": "code",
   "execution_count": null,
   "id": "104d0dd5",
   "metadata": {
    "ExecuteTime": {
     "end_time": "2023-06-30T06:54:01.957731Z",
     "start_time": "2023-06-30T06:54:01.957731Z"
    }
   },
   "outputs": [],
   "source": [
    "dic1.values()"
   ]
  },
  {
   "cell_type": "code",
   "execution_count": null,
   "id": "bdcec8fe",
   "metadata": {
    "ExecuteTime": {
     "end_time": "2023-06-30T06:54:01.958728Z",
     "start_time": "2023-06-30T06:54:01.958728Z"
    }
   },
   "outputs": [],
   "source": [
    "# 나이값을 가져오기\n",
    "list(dic1.values())[1]"
   ]
  },
  {
   "cell_type": "markdown",
   "id": "6be235b3",
   "metadata": {},
   "source": [
    "### 딕셔너리 key, value 모두 가져오기\n",
    "- items()"
   ]
  },
  {
   "cell_type": "code",
   "execution_count": null,
   "id": "74df66c3",
   "metadata": {
    "ExecuteTime": {
     "end_time": "2023-06-30T06:54:01.959725Z",
     "start_time": "2023-06-30T06:54:01.959725Z"
    }
   },
   "outputs": [],
   "source": [
    "dic1.items()"
   ]
  },
  {
   "cell_type": "code",
   "execution_count": null,
   "id": "e02c1d7b",
   "metadata": {
    "ExecuteTime": {
     "end_time": "2023-06-30T06:54:01.960722Z",
     "start_time": "2023-06-30T06:54:01.960722Z"
    }
   },
   "outputs": [],
   "source": [
    "list(dic1.items())"
   ]
  },
  {
   "cell_type": "code",
   "execution_count": null,
   "id": "55f8c137",
   "metadata": {
    "ExecuteTime": {
     "end_time": "2023-06-30T06:54:01.961720Z",
     "start_time": "2023-06-30T06:54:01.961720Z"
    }
   },
   "outputs": [],
   "source": [
    "# 튜플 형태로 출력하기\n",
    "for i in dic1.items():\n",
    "    print(i) # 패킹된 형태로 출력"
   ]
  },
  {
   "cell_type": "code",
   "execution_count": null,
   "id": "5903e07c",
   "metadata": {
    "ExecuteTime": {
     "end_time": "2023-06-30T06:54:01.962717Z",
     "start_time": "2023-06-30T06:54:01.962717Z"
    }
   },
   "outputs": [],
   "source": [
    "# 언패킹된 형태로 출력\n",
    "for key,value in dic1.items():\n",
    "    print(key,value)"
   ]
  },
  {
   "cell_type": "code",
   "execution_count": 16,
   "id": "693d8ac3",
   "metadata": {
    "ExecuteTime": {
     "end_time": "2023-06-30T06:54:50.365441Z",
     "start_time": "2023-06-30T06:54:50.356441Z"
    }
   },
   "outputs": [],
   "source": [
    "score_dict={'이름':['성춘향','이몽룡','김방자','최향단','변학도'],\n",
    "           'Python':[90,100,85,90,80],\n",
    "           'Java':[85,100,80,95,85],\n",
    "           'html/css':[75,70,90,80,90]}"
   ]
  },
  {
   "cell_type": "code",
   "execution_count": 17,
   "id": "3048da2d",
   "metadata": {
    "ExecuteTime": {
     "end_time": "2023-06-30T06:54:51.341873Z",
     "start_time": "2023-06-30T06:54:51.324747Z"
    }
   },
   "outputs": [],
   "source": [
    "sumP=0\n",
    "cnt=0\n",
    "for i in score_dict['Python']:\n",
    "    cnt+=1\n",
    "    sumP+=i\n",
    "py_avg=sumP/cnt"
   ]
  },
  {
   "cell_type": "code",
   "execution_count": 18,
   "id": "a81639c1",
   "metadata": {
    "ExecuteTime": {
     "end_time": "2023-06-30T06:54:52.258090Z",
     "start_time": "2023-06-30T06:54:52.253103Z"
    }
   },
   "outputs": [
    {
     "name": "stdout",
     "output_type": "stream",
     "text": [
      "89.0\n"
     ]
    }
   ],
   "source": [
    "print(py_avg)"
   ]
  },
  {
   "cell_type": "code",
   "execution_count": 19,
   "id": "61787388",
   "metadata": {
    "ExecuteTime": {
     "end_time": "2023-06-30T06:54:53.112457Z",
     "start_time": "2023-06-30T06:54:53.093508Z"
    }
   },
   "outputs": [],
   "source": [
    "sumP=0\n",
    "sumJ=0\n",
    "sumH=0\n",
    "cnt=0\n",
    "for i in score_dict['Python']:\n",
    "    cnt+=1\n",
    "    sumP+=i\n",
    "for i in score_dict['Java']:\n",
    "    sumJ+=i\n",
    "for i in score_dict['html/css']:\n",
    "    sumH+=i\n",
    "P_avg=sumP/cnt\n",
    "J_avg=sumJ/cnt\n",
    "H_avg=sumH/cnt"
   ]
  },
  {
   "cell_type": "code",
   "execution_count": 20,
   "id": "d04d2049",
   "metadata": {
    "ExecuteTime": {
     "end_time": "2023-06-30T06:54:54.799462Z",
     "start_time": "2023-06-30T06:54:54.781389Z"
    }
   },
   "outputs": [
    {
     "name": "stdout",
     "output_type": "stream",
     "text": [
      "Python 평균 : 89.0\n",
      "Java 평균 : 89.0\n",
      "html/css 평균 : 81.0\n"
     ]
    }
   ],
   "source": [
    "print(f'Python 평균 : {P_avg}\\nJava 평균 : {J_avg}\\nhtml/css 평균 : {H_avg}')"
   ]
  },
  {
   "cell_type": "code",
   "execution_count": 22,
   "id": "af44ac3d",
   "metadata": {
    "ExecuteTime": {
     "end_time": "2023-06-30T06:55:05.265911Z",
     "start_time": "2023-06-30T06:55:05.252946Z"
    }
   },
   "outputs": [
    {
     "data": {
      "text/plain": [
       "445"
      ]
     },
     "execution_count": 22,
     "metadata": {},
     "output_type": "execute_result"
    }
   ],
   "source": [
    "# 풀이\n",
    "score_dict.keys()\n",
    "hap=sum(score_dict['Python'])\n",
    "hap"
   ]
  },
  {
   "cell_type": "code",
   "execution_count": 33,
   "id": "6865868e",
   "metadata": {
    "ExecuteTime": {
     "end_time": "2023-06-30T07:00:27.386172Z",
     "start_time": "2023-06-30T07:00:27.380185Z"
    }
   },
   "outputs": [
    {
     "data": {
      "text/plain": [
       "89.0"
      ]
     },
     "execution_count": 33,
     "metadata": {},
     "output_type": "execute_result"
    }
   ],
   "source": [
    "py_avg=hap/len(score_dict['Python'])\n",
    "py_avg"
   ]
  },
  {
   "cell_type": "code",
   "execution_count": 34,
   "id": "d6e27728",
   "metadata": {
    "ExecuteTime": {
     "end_time": "2023-06-30T07:00:28.638477Z",
     "start_time": "2023-06-30T07:00:28.628478Z"
    }
   },
   "outputs": [
    {
     "name": "stdout",
     "output_type": "stream",
     "text": [
      "Python 평균 : 89.0\n",
      "Java 평균 : 89.0\n",
      "html/css 평균 : 81.0\n"
     ]
    }
   ],
   "source": [
    "for i in list(score_dict.keys())[1:]:\n",
    "    avg=sum(score_dict[i])/len(score_dict[i])\n",
    "    print(f'{i} 평균 : {avg}')"
   ]
  },
  {
   "cell_type": "markdown",
   "id": "a94e076a",
   "metadata": {},
   "source": [
    "### 딕셔너리 값 삭제\n",
    "- del 키워드\n",
    "- clear()"
   ]
  },
  {
   "cell_type": "code",
   "execution_count": 51,
   "id": "c2bab572",
   "metadata": {
    "ExecuteTime": {
     "end_time": "2023-06-30T07:16:03.027697Z",
     "start_time": "2023-06-30T07:16:03.020716Z"
    }
   },
   "outputs": [
    {
     "data": {
      "text/plain": [
       "{'name': 'JW', 'age': 20, 'phone': '010-0000-0000', 'birth': '03/01'}"
      ]
     },
     "execution_count": 51,
     "metadata": {},
     "output_type": "execute_result"
    }
   ],
   "source": [
    "dic1"
   ]
  },
  {
   "cell_type": "code",
   "execution_count": 52,
   "id": "83b713e4",
   "metadata": {
    "ExecuteTime": {
     "end_time": "2023-06-30T07:16:04.677713Z",
     "start_time": "2023-06-30T07:16:04.660755Z"
    }
   },
   "outputs": [],
   "source": [
    "# del 키워드\n",
    "# 폰 정보 삭제하기\n",
    "del dic1['phone'] # 삭제됨과 동시에 초기화"
   ]
  },
  {
   "cell_type": "code",
   "execution_count": 53,
   "id": "dd1a2823",
   "metadata": {
    "ExecuteTime": {
     "end_time": "2023-06-30T07:16:06.280997Z",
     "start_time": "2023-06-30T07:16:06.269030Z"
    }
   },
   "outputs": [
    {
     "data": {
      "text/plain": [
       "{'name': 'JW', 'age': 20, 'birth': '03/01'}"
      ]
     },
     "execution_count": 53,
     "metadata": {},
     "output_type": "execute_result"
    }
   ],
   "source": [
    "dic1"
   ]
  },
  {
   "cell_type": "code",
   "execution_count": 56,
   "id": "aa117858",
   "metadata": {
    "ExecuteTime": {
     "end_time": "2023-06-30T07:16:17.011247Z",
     "start_time": "2023-06-30T07:16:16.997284Z"
    }
   },
   "outputs": [],
   "source": [
    "# 데이터를 모두 삭제할 때\n",
    "dic1.clear()"
   ]
  },
  {
   "cell_type": "code",
   "execution_count": 57,
   "id": "f886949f",
   "metadata": {
    "ExecuteTime": {
     "end_time": "2023-06-30T07:16:17.958601Z",
     "start_time": "2023-06-30T07:16:17.940649Z"
    }
   },
   "outputs": [
    {
     "data": {
      "text/plain": [
       "{}"
      ]
     },
     "execution_count": 57,
     "metadata": {},
     "output_type": "execute_result"
    }
   ],
   "source": [
    "dic1"
   ]
  },
  {
   "cell_type": "code",
   "execution_count": null,
   "id": "0190fd9a",
   "metadata": {},
   "outputs": [],
   "source": []
  },
  {
   "cell_type": "code",
   "execution_count": null,
   "id": "9c5605e8",
   "metadata": {},
   "outputs": [],
   "source": []
  }
 ],
 "metadata": {
  "kernelspec": {
   "display_name": "Python 3 (ipykernel)",
   "language": "python",
   "name": "python3"
  },
  "language_info": {
   "codemirror_mode": {
    "name": "ipython",
    "version": 3
   },
   "file_extension": ".py",
   "mimetype": "text/x-python",
   "name": "python",
   "nbconvert_exporter": "python",
   "pygments_lexer": "ipython3",
   "version": "3.9.13"
  },
  "toc": {
   "base_numbering": 1,
   "nav_menu": {},
   "number_sections": true,
   "sideBar": true,
   "skip_h1_title": false,
   "title_cell": "Table of Contents",
   "title_sidebar": "Contents",
   "toc_cell": false,
   "toc_position": {},
   "toc_section_display": true,
   "toc_window_display": false
  },
  "varInspector": {
   "cols": {
    "lenName": 16,
    "lenType": 16,
    "lenVar": 40
   },
   "kernels_config": {
    "python": {
     "delete_cmd_postfix": "",
     "delete_cmd_prefix": "del ",
     "library": "var_list.py",
     "varRefreshCmd": "print(var_dic_list())"
    },
    "r": {
     "delete_cmd_postfix": ") ",
     "delete_cmd_prefix": "rm(",
     "library": "var_list.r",
     "varRefreshCmd": "cat(var_dic_list()) "
    }
   },
   "types_to_exclude": [
    "module",
    "function",
    "builtin_function_or_method",
    "instance",
    "_Feature"
   ],
   "window_display": false
  }
 },
 "nbformat": 4,
 "nbformat_minor": 5
}
