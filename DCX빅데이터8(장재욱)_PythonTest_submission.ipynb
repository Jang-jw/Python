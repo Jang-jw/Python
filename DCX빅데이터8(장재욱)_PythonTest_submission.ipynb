{
 "cells": [
  {
   "cell_type": "markdown",
   "metadata": {},
   "source": [
    "### 파이썬 활용 라이브러리 & 시각화 평가 답안지\n",
    "- 파일명에 본인 성명 기입하시오(Enter your name in the file name.)\n",
    "- 수업 중 배웠던 내용을 상기하여 최선을 다해 문제 풀어주세요.(Recall what you learned in class and do your best to solve the problem.)"
   ]
  },
  {
   "cell_type": "markdown",
   "metadata": {},
   "source": [
    "#### Question1\n",
    "다음은 어떤 차트에 대한 설명이다. 각 빈칸에 알맞은 답을 작성하시오."
   ]
  },
  {
   "cell_type": "markdown",
   "metadata": {},
   "source": [
    "답 :   \n",
    "    ① 선차트 \n",
    "    ② pyplot.plot() "
   ]
  },
  {
   "cell_type": "markdown",
   "metadata": {},
   "source": [
    "#### Question2"
   ]
  },
  {
   "cell_type": "markdown",
   "metadata": {},
   "source": [
    "다음은 어떤 차트에 대한 출력물이다. 문제를 읽고 알맞은 답을 작성하시오. "
   ]
  },
  {
   "cell_type": "markdown",
   "metadata": {},
   "source": [
    "1) 이 차트의 명칭을 작성하시오."
   ]
  },
  {
   "cell_type": "markdown",
   "metadata": {},
   "source": [
    "답 : 바차트"
   ]
  },
  {
   "cell_type": "markdown",
   "metadata": {},
   "source": [
    "2) 이 차트를 matplotlib.pyplot 라이브러리를 사용하여 시각화하기 위해서 어떤 함수를 사용하는지 작성하시오. "
   ]
  },
  {
   "cell_type": "markdown",
   "metadata": {},
   "source": [
    "답 : pyplot.bar()"
   ]
  },
  {
   "cell_type": "markdown",
   "metadata": {},
   "source": [
    "#### Question3\n",
    "아래와 같이 리스트를 만들고 요소의 짝수/홀수를 구분하여 개수를 세는 프로그램을 작성하시오. "
   ]
  },
  {
   "cell_type": "code",
   "execution_count": 1,
   "metadata": {
    "ExecuteTime": {
     "end_time": "2023-07-10T07:21:03.614533Z",
     "start_time": "2023-07-10T07:21:03.600822Z"
    }
   },
   "outputs": [
    {
     "name": "stdout",
     "output_type": "stream",
     "text": [
      "짝수 2개, 홀수7개\n"
     ]
    }
   ],
   "source": [
    "list1=[1,50,27,19,37,33,5,3,48]\n",
    "cntEven=0\n",
    "cntOdd=0\n",
    "for i in list1:\n",
    "    if i%2==0:\n",
    "        cntEven+=1\n",
    "    elif i%2==1:\n",
    "        cntOdd+=1\n",
    "    else:\n",
    "        continue\n",
    "print(f'짝수 {cntEven}개, 홀수{cntOdd}개')"
   ]
  },
  {
   "cell_type": "markdown",
   "metadata": {},
   "source": [
    "#### Question4\n",
    "다음 score_list에 들어있는 데이터를 이용해 아래와 같이 성적표를 만드는 프로그램을 작성하시오. (단, 학생의 숫자가 늘어나도 동작할 수 있도록 고려하시오.)"
   ]
  },
  {
   "cell_type": "code",
   "execution_count": 2,
   "metadata": {
    "ExecuteTime": {
     "end_time": "2023-07-10T07:21:03.630218Z",
     "start_time": "2023-07-10T07:21:03.614533Z"
    }
   },
   "outputs": [
    {
     "name": "stdout",
     "output_type": "stream",
     "text": [
      "==================================================\n",
      "이름\tPython\tJava\tDB\t평균\t학점\n",
      "==================================================\n",
      "김미희\t89\t78\t99\t88\tB\n",
      "서대희\t67\t88\t77\t77\tC\n",
      "강예진\t100\t55\t96\t83\tB\n",
      "==================================================\n",
      "평균\t85\t73\t90\n"
     ]
    }
   ],
   "source": [
    "score_list=[['김미희',89,78,99],\n",
    "           ['서대희',67,88,77],\n",
    "           ['강예진',100,55,96]]\n",
    "listP=[]\n",
    "for i in range(len(score_list)):\n",
    "    listP.append(score_list[i][1])\n",
    "P=int(sum(listP)/len(score_list))\n",
    "listJ=[]\n",
    "for i in range(len(score_list)):\n",
    "    listJ.append(score_list[i][2])\n",
    "J=int(sum(listJ)/len(score_list))\n",
    "listD=[]\n",
    "for i in range(len(score_list)):\n",
    "    listD.append(score_list[i][3])\n",
    "D=int(sum(listD)/len(score_list))\n",
    "print('='*50)\n",
    "print('이름\\tPython\\tJava\\tDB\\t평균\\t학점')\n",
    "print('='*50)\n",
    "grade=''\n",
    "for i in range(len(score_list)):\n",
    "    j=int(sum(score_list[i][1:])/len(score_list[i][1:]))\n",
    "    if j>=90:\n",
    "        grade='A'\n",
    "    elif j>=80:\n",
    "        grade='B'\n",
    "    elif j>=70:\n",
    "        grade='C'\n",
    "    elif j>=60:\n",
    "        grade='D'\n",
    "    elif j<60:\n",
    "        grade='F'\n",
    "    else:\n",
    "        continue\n",
    "    print(f'{score_list[i][0]}\\t{score_list[i][1]}\\t{score_list[i][2]}\\t{score_list[i][3]}\\t{j}\\t{grade}')\n",
    "print('='*50)\n",
    "print(f'평균\\t{P}\\t{J}\\t{D}')"
   ]
  },
  {
   "cell_type": "code",
   "execution_count": 3,
   "metadata": {
    "ExecuteTime": {
     "end_time": "2023-07-10T07:21:03.645877Z",
     "start_time": "2023-07-10T07:21:03.630536Z"
    }
   },
   "outputs": [
    {
     "name": "stdout",
     "output_type": "stream",
     "text": [
      "==================================================\n",
      "이름\tPython\tJava\tDB\t평균\t학점\n",
      "==================================================\n",
      "김미희\t89\t78\t99\t88\tB\n",
      "서대희\t67\t88\t77\t77\tC\n",
      "강예진\t100\t55\t96\t83\tB\n",
      "차현석\t75\t100\t60\t78\tC\n",
      "==================================================\n",
      "평균\t82\t80\t83\n"
     ]
    }
   ],
   "source": [
    "score_list=[['김미희',89,78,99],\n",
    "           ['서대희',67,88,77],\n",
    "           ['강예진',100,55,96],\n",
    "           ['차현석',75,100,60]]\n",
    "listP=[]\n",
    "for i in range(len(score_list)):\n",
    "    listP.append(score_list[i][1])\n",
    "P=int(sum(listP)/len(score_list))\n",
    "listJ=[]\n",
    "for i in range(len(score_list)):\n",
    "    listJ.append(score_list[i][2])\n",
    "J=int(sum(listJ)/len(score_list))\n",
    "listD=[]\n",
    "for i in range(len(score_list)):\n",
    "    listD.append(score_list[i][3])\n",
    "D=int(sum(listD)/len(score_list))\n",
    "print('='*50)\n",
    "print('이름\\tPython\\tJava\\tDB\\t평균\\t학점')\n",
    "print('='*50)\n",
    "grade=''\n",
    "for i in range(len(score_list)):\n",
    "    j=int(sum(score_list[i][1:])/len(score_list[i][1:]))\n",
    "    if j>=90:\n",
    "        grade='A'\n",
    "    elif j>=80:\n",
    "        grade='B'\n",
    "    elif j>=70:\n",
    "        grade='C'\n",
    "    elif j>=60:\n",
    "        grade='D'\n",
    "    elif j<60:\n",
    "        grade='F'\n",
    "    else:\n",
    "        continue\n",
    "    print(f'{score_list[i][0]}\\t{score_list[i][1]}\\t{score_list[i][2]}\\t{score_list[i][3]}\\t{j}\\t{grade}')\n",
    "print('='*50)\n",
    "print(f'평균\\t{P}\\t{J}\\t{D}')"
   ]
  },
  {
   "cell_type": "markdown",
   "metadata": {},
   "source": [
    "#### Question5\n",
    " X, Y1, Y2 리스트 자료를 활용하여 [실행결과]와 같은 그래프를 출력하는 프로그램을 작성하시오.  (단, 두 차트는 빨간색과 파란색을 통해 구별 하시오.)"
   ]
  },
  {
   "cell_type": "code",
   "execution_count": 4,
   "metadata": {
    "ExecuteTime": {
     "end_time": "2023-07-10T07:21:05.096045Z",
     "start_time": "2023-07-10T07:21:03.647357Z"
    }
   },
   "outputs": [
    {
     "data": {
      "image/png": "[encoded data removed]",
      "text/plain": [
       "<Figure size 640x480 with 1 Axes>"
      ]
     },
     "metadata": {},
     "output_type": "display_data"
    }
   ],
   "source": [
    "import matplotlib.pyplot as plt\n",
    "import seaborn as sns\n",
    "\n",
    "X=[2,3,4,5,6,7,8]\n",
    "Y1=[5,7,3,9,1,8,6]\n",
    "Y2=[9,5,7,2,3,7,1]\n",
    "\n",
    "plt.plot(X,Y1,label='Y1',color='red')\n",
    "plt.plot(X,Y2,label='Y2',color='blue')\n",
    "plt.grid()\n",
    "plt.xlabel('X')\n",
    "plt.ylabel('Y')\n",
    "plt.legend()\n",
    "plt.show()"
   ]
  },
  {
   "cell_type": "markdown",
   "metadata": {},
   "source": [
    "#### Question6\n",
    "Traffic_Accident_2017.csv 데이터를 이용하여 ‘차대 사람’인 사건 중 야간에 발생한 사건에 대해 아래 주어진 조건을 지켜 다음과 같이 시각화 하시오.\n",
    "\n",
    "※ 조건 내용 반드시 확인할 것  \n",
    " 조건 1. 사고유형_대분류가 ‘차대사람’ 이면서 발생시간대가 ‘야간’인 경우의 사고 건수 카운트  \n",
    " 조건 2. y축의 범위는 0~200으로 설정할 것  \n",
    " 조건 3. 차트 내부 글씨는 한글로 표시할 것  "
   ]
  },
  {
   "cell_type": "code",
   "execution_count": 5,
   "metadata": {
    "ExecuteTime": {
     "end_time": "2023-07-10T07:21:05.228894Z",
     "start_time": "2023-07-10T07:21:05.096045Z"
    }
   },
   "outputs": [
    {
     "data": {
      "image/png": "[encoded data removed]",
      "text/plain": [
       "<Figure size 640x480 with 1 Axes>"
      ]
     },
     "metadata": {},
     "output_type": "display_data"
    }
   ],
   "source": [
    "import numpy as np\n",
    "import pandas as pd\n",
    "sns.set_palette('pastel')\n",
    "\n",
    "from matplotlib import rc\n",
    "rc('font',family='Malgun Gothic')\n",
    "\n",
    "data=pd.read_csv('./data/Traffic_Accident_2017.csv',encoding='euc-kr')\n",
    "result=data.query('((사고유형_대분류==\"차대사람\")&(주야==\"야간\"))').groupby('요일')['요일'].count()\n",
    "plt.bar(result.index,result)\n",
    "plt.title('요일별 야간 차대사람 교통사고 건수')\n",
    "plt.xlabel('요일')\n",
    "plt.ylabel('사고 건수')\n",
    "plt.yticks(range(0,201,25))\n",
    "plt.show()"
   ]
  },
  {
   "cell_type": "markdown",
   "metadata": {},
   "source": [
    "### 수고하셨습니다 ."
   ]
  }
 ],
 "metadata": {
  "kernelspec": {
   "display_name": "Python 3 (ipykernel)",
   "language": "python",
   "name": "python3"
  },
  "language_info": {
   "codemirror_mode": {
    "name": "ipython",
    "version": 3
   },
   "file_extension": ".py",
   "mimetype": "text/x-python",
   "name": "python",
   "nbconvert_exporter": "python",
   "pygments_lexer": "ipython3",
   "version": "3.9.13"
  },
  "toc": {
   "base_numbering": 1,
   "nav_menu": {},
   "number_sections": true,
   "sideBar": true,
   "skip_h1_title": false,
   "title_cell": "Table of Contents",
   "title_sidebar": "Contents",
   "toc_cell": false,
   "toc_position": {},
   "toc_section_display": true,
   "toc_window_display": false
  },
  "varInspector": {
   "cols": {
    "lenName": 16,
    "lenType": 16,
    "lenVar": 40
   },
   "kernels_config": {
    "python": {
     "delete_cmd_postfix": "",
     "delete_cmd_prefix": "del ",
     "library": "var_list.py",
     "varRefreshCmd": "print(var_dic_list())"
    },
    "r": {
     "delete_cmd_postfix": ") ",
     "delete_cmd_prefix": "rm(",
     "library": "var_list.r",
     "varRefreshCmd": "cat(var_dic_list()) "
    }
   },
   "types_to_exclude": [
    "module",
    "function",
    "builtin_function_or_method",
    "instance",
    "_Feature"
   ],
   "window_display": false
  }
 },
 "nbformat": 4,
 "nbformat_minor": 4
}
